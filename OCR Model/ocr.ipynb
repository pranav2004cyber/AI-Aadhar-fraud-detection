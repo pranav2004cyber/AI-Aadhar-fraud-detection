{
 "cells": [
  {
   "cell_type": "code",
   "execution_count": 1,
   "id": "67eaba4c-5168-4cb3-81ea-e7b1cdec246c",
   "metadata": {},
   "outputs": [
    {
     "name": "stdout",
     "output_type": "stream",
     "text": [
      "Requirement already satisfied: easyocr in d:\\python313\\lib\\site-packages (1.7.2)\n",
      "Requirement already satisfied: torch in d:\\python313\\lib\\site-packages (from easyocr) (2.6.0)\n",
      "Requirement already satisfied: torchvision>=0.5 in d:\\python313\\lib\\site-packages (from easyocr) (0.21.0)\n",
      "Requirement already satisfied: opencv-python-headless in d:\\python313\\lib\\site-packages (from easyocr) (4.11.0.86)\n",
      "Requirement already satisfied: scipy in d:\\python313\\lib\\site-packages (from easyocr) (1.15.2)\n",
      "Requirement already satisfied: numpy in d:\\python313\\lib\\site-packages (from easyocr) (2.1.1)\n",
      "Requirement already satisfied: Pillow in d:\\python313\\lib\\site-packages (from easyocr) (11.1.0)\n",
      "Requirement already satisfied: scikit-image in d:\\python313\\lib\\site-packages (from easyocr) (0.25.2)\n",
      "Requirement already satisfied: python-bidi in d:\\python313\\lib\\site-packages (from easyocr) (0.6.6)\n",
      "Requirement already satisfied: PyYAML in d:\\python313\\lib\\site-packages (from easyocr) (6.0.2)\n",
      "Requirement already satisfied: Shapely in d:\\python313\\lib\\site-packages (from easyocr) (2.0.7)\n",
      "Requirement already satisfied: pyclipper in d:\\python313\\lib\\site-packages (from easyocr) (1.3.0.post6)\n",
      "Requirement already satisfied: ninja in d:\\python313\\lib\\site-packages (from easyocr) (1.11.1.3)\n",
      "Requirement already satisfied: filelock in d:\\python313\\lib\\site-packages (from torch->easyocr) (3.17.0)\n",
      "Requirement already satisfied: typing-extensions>=4.10.0 in d:\\python313\\lib\\site-packages (from torch->easyocr) (4.12.2)\n",
      "Requirement already satisfied: networkx in d:\\python313\\lib\\site-packages (from torch->easyocr) (3.4.2)\n",
      "Requirement already satisfied: jinja2 in d:\\python313\\lib\\site-packages (from torch->easyocr) (3.1.5)\n",
      "Requirement already satisfied: fsspec in d:\\python313\\lib\\site-packages (from torch->easyocr) (2025.2.0)\n",
      "Requirement already satisfied: setuptools in d:\\python313\\lib\\site-packages (from torch->easyocr) (75.8.0)\n",
      "Requirement already satisfied: sympy==1.13.1 in d:\\python313\\lib\\site-packages (from torch->easyocr) (1.13.1)\n",
      "Requirement already satisfied: mpmath<1.4,>=1.1.0 in d:\\python313\\lib\\site-packages (from sympy==1.13.1->torch->easyocr) (1.3.0)\n",
      "Requirement already satisfied: imageio!=2.35.0,>=2.33 in d:\\python313\\lib\\site-packages (from scikit-image->easyocr) (2.37.0)\n",
      "Requirement already satisfied: tifffile>=2022.8.12 in d:\\python313\\lib\\site-packages (from scikit-image->easyocr) (2025.2.18)\n",
      "Requirement already satisfied: packaging>=21 in d:\\python313\\lib\\site-packages (from scikit-image->easyocr) (24.2)\n",
      "Requirement already satisfied: lazy-loader>=0.4 in d:\\python313\\lib\\site-packages (from scikit-image->easyocr) (0.4)\n",
      "Requirement already satisfied: MarkupSafe>=2.0 in d:\\python313\\lib\\site-packages (from jinja2->torch->easyocr) (3.0.2)\n"
     ]
    },
    {
     "name": "stderr",
     "output_type": "stream",
     "text": [
      "\n",
      "[notice] A new release of pip is available: 24.3.1 -> 25.0.1\n",
      "[notice] To update, run: python.exe -m pip install --upgrade pip\n"
     ]
    }
   ],
   "source": [
    "!pip install easyocr"
   ]
  },
  {
   "cell_type": "code",
   "execution_count": 2,
   "id": "ad1bc765-54ee-4d2e-8a8f-86ed90fd57e4",
   "metadata": {},
   "outputs": [],
   "source": [
    "from ultralytics import YOLO\n",
    "import cv2\n",
    "import easyocr"
   ]
  },
  {
   "cell_type": "code",
   "execution_count": 3,
   "id": "c9804525-9894-4f88-96bc-9dc1c62bf3d7",
   "metadata": {},
   "outputs": [],
   "source": [
    "model=YOLO(\"D:\\\\jupyter notebook\\\\runs\\\\detect\\\\train10\\\\weights\\\\best.pt\")"
   ]
  },
  {
   "cell_type": "code",
   "execution_count": 4,
   "id": "99bd7f76-f951-4b97-824c-958d224b286a",
   "metadata": {},
   "outputs": [
    {
     "name": "stderr",
     "output_type": "stream",
     "text": [
      "Neither CUDA nor MPS are available - defaulting to CPU. Note: This module is much faster with a GPU.\n"
     ]
    }
   ],
   "source": [
    "reader = easyocr.Reader(['en'])"
   ]
  },
  {
   "cell_type": "code",
   "execution_count": 5,
   "id": "a8831ec3-5554-4b31-917a-ab1ada4504d6",
   "metadata": {},
   "outputs": [
    {
     "name": "stdout",
     "output_type": "stream",
     "text": [
      "\n",
      "image 1/1 D:\\infosys project\\detection_model\\detection_dataset\\dataset\\dataset\\dataset\\images\\train\\17.jpg: 640x480 1 name, 2 uids, 2 addresss, 289.2ms\n",
      "Speed: 16.2ms preprocess, 289.2ms inference, 19.0ms postprocess per image at shape (1, 3, 640, 480)\n"
     ]
    }
   ],
   "source": [
    "image_path = \"D:\\\\infosys project\\\\detection_model\\\\detection_dataset\\\\dataset\\\\dataset\\\\dataset\\\\images\\\\train\\\\17.jpg\" # replace with your image path\n",
    "results = model(image_path)"
   ]
  },
  {
   "cell_type": "code",
   "execution_count": 6,
   "id": "c58c945b-0a55-4fd7-8b86-2cfe13f70d9b",
   "metadata": {},
   "outputs": [],
   "source": [
    "# Load the original image\n",
    "image = cv2.imread(image_path)\n",
    "\n",
    "# Dictionary to store extracted fields\n",
    "extracted_data= {}"
   ]
  },
  {
   "cell_type": "code",
   "execution_count": 7,
   "id": "2424d7a6-d061-41ce-b68d-51597fbcb932",
   "metadata": {},
   "outputs": [],
   "source": [
    "# Dictionary to store extracted fields\n",
    "extracted_data = {}\n",
    "# Iterate through detections\n",
    "for result in results[0].boxes.data.tolist():  # results[0].boxes.data contains bounding box details\n",
    "    x1, y1, x2, y2, confidence, class_id = map(int, result[:6])\n",
    "    field_class = model.names[class_id]  # Get class name (e.g., 'Name', 'UID', 'Address')\n",
    "\n",
    "    # Crop the detected region\n",
    "    cropped_roi = image[y1:y2, x1:x2]\n",
    "\n",
    "    # Convert cropped ROI to grayscale for OCR\n",
    "    gray_roi = cv2.cvtColor(cropped_roi, cv2.COLOR_BGR2GRAY)\n",
    "\n",
    "    # Use EasyOCR to extract text\n",
    "    text = reader.readtext(gray_roi, detail=0)  # detail=0 returns only the text\n",
    "\n",
    "    # Save the text to the extracted_data dictionary\n",
    "    extracted_data[field_class] = ' '.join(text)  # Combine detected text if multiple lines"
   ]
  },
  {
   "cell_type": "code",
   "execution_count": 8,
   "id": "73dfc834-bc7d-4690-b43d-fa614c05e780",
   "metadata": {},
   "outputs": [
    {
     "name": "stdout",
     "output_type": "stream",
     "text": [
      "Extracted Data: {'address': 'Address: S/O: Khalique Usman Patel,; Flat No 2, Sneh Deep Appartment; Kranti Chowk; Rama Nagar , Jalna Road; Aurangabad; Aurangabad, Maharashtra 431005', 'name': 'Abdul Rashid Shaikh', 'uid': '7932 9357 0646'}\n"
     ]
    }
   ],
   "source": [
    "# Print the extracted fields\n",
    "print(\"Extracted Data:\", extracted_data)"
   ]
  },
  {
   "cell_type": "code",
   "execution_count": 19,
   "id": "6ccb3f1f-1de6-4251-bedb-fd4b36f0608b",
   "metadata": {},
   "outputs": [
    {
     "data": {
      "text/plain": [
       "True"
      ]
     },
     "execution_count": 19,
     "metadata": {},
     "output_type": "execute_result"
    }
   ],
   "source": [
    "cv2.imwrite(\"cropped_address.jpg\", cropped_roi)\n"
   ]
  },
  {
   "cell_type": "code",
   "execution_count": 24,
   "id": "e20a0f32-292d-43be-8434-b25446bb4a03",
   "metadata": {},
   "outputs": [
    {
     "name": "stdout",
     "output_type": "stream",
     "text": [
      "Extracted Data: {'address': 'Address: S/O: Khalique Usman Patel,; Flat No 2, Sneh Deep Appartment; Kranti Chowk; Rama Nagar , Jalna Road; Aurangabad; Aurangabad, Maharashtra 431005', 'name': 'Abdul Rashid Shaikh', 'uid': '7932 9357 0646'}\n"
     ]
    }
   ],
   "source": [
    "# Print the extracted fields\n",
    "print(\"Extracted Data:\", extracted_data)"
   ]
  },
  {
   "cell_type": "code",
   "execution_count": 25,
   "id": "c683cea2-a7ea-431b-a231-59bc13a6201c",
   "metadata": {},
   "outputs": [
    {
     "name": "stdout",
     "output_type": "stream",
     "text": [
      "\n",
      "image 1/1 D:\\infosys project\\detection_model\\detection_dataset\\dataset\\dataset\\dataset\\images\\train\\17.jpg: 640x480 1 name, 2 uids, 2 addresss, 260.9ms\n",
      "Speed: 19.5ms preprocess, 260.9ms inference, 1.5ms postprocess per image at shape (1, 3, 640, 480)\n"
     ]
    }
   ],
   "source": [
    "image_path = \"D:\\\\infosys project\\\\detection_model\\\\detection_dataset\\\\dataset\\\\dataset\\\\dataset\\\\images\\\\train\\\\17.jpg\" # replace with your image path\n",
    "results = model(image_path)"
   ]
  },
  {
   "cell_type": "code",
   "execution_count": 26,
   "id": "cc3030b6-34fc-4d5f-a3e1-3e73d80b47c6",
   "metadata": {},
   "outputs": [],
   "source": [
    "# Load the original image\n",
    "image = cv2.imread(image_path)\n",
    "\n",
    "# Dictionary to store extracted fields\n",
    "extracted_data= {}"
   ]
  },
  {
   "cell_type": "code",
   "execution_count": 27,
   "id": "209c6ea2-5d29-479d-b468-9661911a945f",
   "metadata": {},
   "outputs": [],
   "source": [
    "# Dictionary to store extracted fields\n",
    "extracted_data = {}\n",
    "# Iterate through detections\n",
    "for result in results[0].boxes.data.tolist():  # results[0].boxes.data contains bounding box details\n",
    "    x1, y1, x2, y2, confidence, class_id = map(int, result[:6])\n",
    "    field_class = model.names[class_id]  # Get class name (e.g., 'Name', 'UID', 'Address')\n",
    "\n",
    "    # Crop the detected region\n",
    "    cropped_roi = image[y1:y2, x1:x2]\n",
    "\n",
    "    # Convert cropped ROI to grayscale for OCR\n",
    "    gray_roi = cv2.cvtColor(cropped_roi, cv2.COLOR_BGR2GRAY)\n",
    "\n",
    "    # Use EasyOCR to extract text\n",
    "    text = reader.readtext(gray_roi, detail=0)  # detail=0 returns only the text\n",
    "\n",
    "    # Save the text to the extracted_data dictionary\n",
    "    extracted_data[field_class] = ' '.join(text)  # Combine detected text if multiple lines"
   ]
  },
  {
   "cell_type": "code",
   "execution_count": 28,
   "id": "e9c7dd11-b253-489c-8ad0-79780211b302",
   "metadata": {},
   "outputs": [
    {
     "name": "stdout",
     "output_type": "stream",
     "text": [
      "Extracted Data: {'address': 'Address: S/O: Khalique Usman Patel,; Flat No 2, Sneh Deep Appartment; Kranti Chowk; Rama Nagar , Jalna Road; Aurangabad; Aurangabad, Maharashtra 431005', 'name': 'Abdul Rashid Shaikh', 'uid': '7932 9357 0646'}\n"
     ]
    }
   ],
   "source": [
    "# Print the extracted fields\n",
    "print(\"Extracted Data:\", extracted_data)"
   ]
  },
  {
   "cell_type": "code",
   "execution_count": null,
   "id": "e90929de-5511-42e4-b037-49df8780cbfd",
   "metadata": {},
   "outputs": [],
   "source": []
  }
 ],
 "metadata": {
  "kernelspec": {
   "display_name": "Python 3 (ipykernel)",
   "language": "python",
   "name": "python3"
  },
  "language_info": {
   "codemirror_mode": {
    "name": "ipython",
    "version": 3
   },
   "file_extension": ".py",
   "mimetype": "text/x-python",
   "name": "python",
   "nbconvert_exporter": "python",
   "pygments_lexer": "ipython3",
   "version": "3.13.2"
  }
 },
 "nbformat": 4,
 "nbformat_minor": 5
}
